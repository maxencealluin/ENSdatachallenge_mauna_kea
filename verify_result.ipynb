{
 "cells": [
  {
   "cell_type": "code",
   "execution_count": 7,
   "metadata": {},
   "outputs": [
    {
     "name": "stdout",
     "output_type": "stream",
     "text": [
      "(1715, 2)\n",
      "(1715, 2)\n",
      "Accuracy : 0.921865889212828\n"
     ]
    },
    {
     "data": {
      "image/png": "[encoded data removed]",
      "text/plain": [
       "<Figure size 432x288 with 2 Axes>"
      ]
     },
     "metadata": {
      "needs_background": "light"
     },
     "output_type": "display_data"
    }
   ],
   "source": [
    "%matplotlib inline\n",
    "from PIL import Image\n",
    "import pandas as pd\n",
    "import numpy as np\n",
    "import glob\n",
    "import imgaug.augmenters as iaa\n",
    "from sys import argv\n",
    "\n",
    "nets = ['autoencoder', 'resnext', 'pretrained_vgg', 'xception', 'mobilenet', 'ensemble', 'ensemble_tta', 'ensemble_tta_old']\n",
    "\n",
    "df_true = pd.read_csv('./mldata/results_' + nets[-2] + '.csv')\n",
    "df_pred = pd.read_csv('./mldata/results_' + nets[-1] + '.csv')\n",
    "print(df_true.shape)\n",
    "print(df_pred.shape)\n",
    "\n",
    "res = df_pred.merge(df_true, on=['image_filename'])\n",
    "    \n",
    "from sklearn.metrics import confusion_matrix, accuracy_score\n",
    "matrix = confusion_matrix(res['class_number_x'], res['class_number_y'])\n",
    "accuracy = accuracy_score(res['class_number_x'], res['class_number_y'])\n",
    "\n",
    "print(\"Accuracy : {}\".format(accuracy))\n",
    "import seaborn as sns\n",
    "import matplotlib.pyplot as plt\n",
    "sns.heatmap(matrix, annot=True,  fmt=\"d\", vmin=0, vmax=20)\n",
    "plt.show()"
   ]
  },
  {
   "cell_type": "code",
   "execution_count": 11,
   "metadata": {},
   "outputs": [
    {
     "name": "stdout",
     "output_type": "stream",
     "text": [
      "[[272   1   1  21]\n",
      " [  4 523  19  42]\n",
      " [ 10  16 210   8]\n",
      " [ 11  11   8 558]]\n"
     ]
    }
   ],
   "source": [
    "print(matrix)"
   ]
  },
  {
   "cell_type": "code",
   "execution_count": null,
   "metadata": {},
   "outputs": [],
   "source": []
  }
 ],
 "metadata": {
  "kernelspec": {
   "display_name": "Python 3",
   "language": "python",
   "name": "python3"
  },
  "language_info": {
   "codemirror_mode": {
    "name": "ipython",
    "version": 3
   },
   "file_extension": ".py",
   "mimetype": "text/x-python",
   "name": "python",
   "nbconvert_exporter": "python",
   "pygments_lexer": "ipython3",
   "version": "3.7.1"
  }
 },
 "nbformat": 4,
 "nbformat_minor": 2
}
